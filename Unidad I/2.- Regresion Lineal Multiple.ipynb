{
 "cells": [
  {
   "cell_type": "code",
   "execution_count": 1,
   "id": "7f73f73c",
   "metadata": {},
   "outputs": [
    {
     "data": {
      "text/html": [
       "<div>\n",
       "<style scoped>\n",
       "    .dataframe tbody tr th:only-of-type {\n",
       "        vertical-align: middle;\n",
       "    }\n",
       "\n",
       "    .dataframe tbody tr th {\n",
       "        vertical-align: top;\n",
       "    }\n",
       "\n",
       "    .dataframe thead th {\n",
       "        text-align: right;\n",
       "    }\n",
       "</style>\n",
       "<table border=\"1\" class=\"dataframe\">\n",
       "  <thead>\n",
       "    <tr style=\"text-align: right;\">\n",
       "      <th></th>\n",
       "      <th>Hogar</th>\n",
       "      <th>Nº de integrantes del grupo familiar</th>\n",
       "      <th>Edad del jefe(a) de hogar (años)</th>\n",
       "      <th>Gastos en alimentación (miles de pesos)</th>\n",
       "    </tr>\n",
       "  </thead>\n",
       "  <tbody>\n",
       "    <tr>\n",
       "      <th>0</th>\n",
       "      <td>1</td>\n",
       "      <td>4</td>\n",
       "      <td>48</td>\n",
       "      <td>200</td>\n",
       "    </tr>\n",
       "    <tr>\n",
       "      <th>1</th>\n",
       "      <td>2</td>\n",
       "      <td>2</td>\n",
       "      <td>26</td>\n",
       "      <td>130</td>\n",
       "    </tr>\n",
       "    <tr>\n",
       "      <th>2</th>\n",
       "      <td>3</td>\n",
       "      <td>5</td>\n",
       "      <td>33</td>\n",
       "      <td>190</td>\n",
       "    </tr>\n",
       "    <tr>\n",
       "      <th>3</th>\n",
       "      <td>4</td>\n",
       "      <td>3</td>\n",
       "      <td>24</td>\n",
       "      <td>175</td>\n",
       "    </tr>\n",
       "    <tr>\n",
       "      <th>4</th>\n",
       "      <td>5</td>\n",
       "      <td>3</td>\n",
       "      <td>24</td>\n",
       "      <td>160</td>\n",
       "    </tr>\n",
       "  </tbody>\n",
       "</table>\n",
       "</div>"
      ],
      "text/plain": [
       "   Hogar  Nº de integrantes del grupo familiar  \\\n",
       "0      1                                     4   \n",
       "1      2                                     2   \n",
       "2      3                                     5   \n",
       "3      4                                     3   \n",
       "4      5                                     3   \n",
       "\n",
       "   Edad del jefe(a) de hogar (años)  Gastos en alimentación (miles de pesos)  \n",
       "0                                48                                      200  \n",
       "1                                26                                      130  \n",
       "2                                33                                      190  \n",
       "3                                24                                      175  \n",
       "4                                24                                      160  "
      ]
     },
     "execution_count": 1,
     "metadata": {},
     "output_type": "execute_result"
    }
   ],
   "source": [
    "import pandas as pd\n",
    "\n",
    "data = pd.read_csv('rl_multiple.csv')\n",
    "\n",
    "data.head()"
   ]
  },
  {
   "cell_type": "code",
   "execution_count": 2,
   "id": "b3dfd8f9",
   "metadata": {},
   "outputs": [],
   "source": [
    "# Variables X e Y\n",
    "\n",
    "X = data[[\"Nº de integrantes del grupo familiar\", \"Edad del jefe(a) de hogar (años)\"]] # independentes\n",
    "y = data[\"Gastos en alimentación (miles de pesos)\"] # dependiente"
   ]
  },
  {
   "cell_type": "code",
   "execution_count": 3,
   "id": "88a3f08c",
   "metadata": {},
   "outputs": [
    {
     "data": {
      "text/html": [
       "<style>#sk-container-id-1 {color: black;}#sk-container-id-1 pre{padding: 0;}#sk-container-id-1 div.sk-toggleable {background-color: white;}#sk-container-id-1 label.sk-toggleable__label {cursor: pointer;display: block;width: 100%;margin-bottom: 0;padding: 0.3em;box-sizing: border-box;text-align: center;}#sk-container-id-1 label.sk-toggleable__label-arrow:before {content: \"▸\";float: left;margin-right: 0.25em;color: #696969;}#sk-container-id-1 label.sk-toggleable__label-arrow:hover:before {color: black;}#sk-container-id-1 div.sk-estimator:hover label.sk-toggleable__label-arrow:before {color: black;}#sk-container-id-1 div.sk-toggleable__content {max-height: 0;max-width: 0;overflow: hidden;text-align: left;background-color: #f0f8ff;}#sk-container-id-1 div.sk-toggleable__content pre {margin: 0.2em;color: black;border-radius: 0.25em;background-color: #f0f8ff;}#sk-container-id-1 input.sk-toggleable__control:checked~div.sk-toggleable__content {max-height: 200px;max-width: 100%;overflow: auto;}#sk-container-id-1 input.sk-toggleable__control:checked~label.sk-toggleable__label-arrow:before {content: \"▾\";}#sk-container-id-1 div.sk-estimator input.sk-toggleable__control:checked~label.sk-toggleable__label {background-color: #d4ebff;}#sk-container-id-1 div.sk-label input.sk-toggleable__control:checked~label.sk-toggleable__label {background-color: #d4ebff;}#sk-container-id-1 input.sk-hidden--visually {border: 0;clip: rect(1px 1px 1px 1px);clip: rect(1px, 1px, 1px, 1px);height: 1px;margin: -1px;overflow: hidden;padding: 0;position: absolute;width: 1px;}#sk-container-id-1 div.sk-estimator {font-family: monospace;background-color: #f0f8ff;border: 1px dotted black;border-radius: 0.25em;box-sizing: border-box;margin-bottom: 0.5em;}#sk-container-id-1 div.sk-estimator:hover {background-color: #d4ebff;}#sk-container-id-1 div.sk-parallel-item::after {content: \"\";width: 100%;border-bottom: 1px solid gray;flex-grow: 1;}#sk-container-id-1 div.sk-label:hover label.sk-toggleable__label {background-color: #d4ebff;}#sk-container-id-1 div.sk-serial::before {content: \"\";position: absolute;border-left: 1px solid gray;box-sizing: border-box;top: 0;bottom: 0;left: 50%;z-index: 0;}#sk-container-id-1 div.sk-serial {display: flex;flex-direction: column;align-items: center;background-color: white;padding-right: 0.2em;padding-left: 0.2em;position: relative;}#sk-container-id-1 div.sk-item {position: relative;z-index: 1;}#sk-container-id-1 div.sk-parallel {display: flex;align-items: stretch;justify-content: center;background-color: white;position: relative;}#sk-container-id-1 div.sk-item::before, #sk-container-id-1 div.sk-parallel-item::before {content: \"\";position: absolute;border-left: 1px solid gray;box-sizing: border-box;top: 0;bottom: 0;left: 50%;z-index: -1;}#sk-container-id-1 div.sk-parallel-item {display: flex;flex-direction: column;z-index: 1;position: relative;background-color: white;}#sk-container-id-1 div.sk-parallel-item:first-child::after {align-self: flex-end;width: 50%;}#sk-container-id-1 div.sk-parallel-item:last-child::after {align-self: flex-start;width: 50%;}#sk-container-id-1 div.sk-parallel-item:only-child::after {width: 0;}#sk-container-id-1 div.sk-dashed-wrapped {border: 1px dashed gray;margin: 0 0.4em 0.5em 0.4em;box-sizing: border-box;padding-bottom: 0.4em;background-color: white;}#sk-container-id-1 div.sk-label label {font-family: monospace;font-weight: bold;display: inline-block;line-height: 1.2em;}#sk-container-id-1 div.sk-label-container {text-align: center;}#sk-container-id-1 div.sk-container {/* jupyter's `normalize.less` sets `[hidden] { display: none; }` but bootstrap.min.css set `[hidden] { display: none !important; }` so we also need the `!important` here to be able to override the default hidden behavior on the sphinx rendered scikit-learn.org. See: https://github.com/scikit-learn/scikit-learn/issues/21755 */display: inline-block !important;position: relative;}#sk-container-id-1 div.sk-text-repr-fallback {display: none;}</style><div id=\"sk-container-id-1\" class=\"sk-top-container\"><div class=\"sk-text-repr-fallback\"><pre>LinearRegression()</pre><b>In a Jupyter environment, please rerun this cell to show the HTML representation or trust the notebook. <br />On GitHub, the HTML representation is unable to render, please try loading this page with nbviewer.org.</b></div><div class=\"sk-container\" hidden><div class=\"sk-item\"><div class=\"sk-estimator sk-toggleable\"><input class=\"sk-toggleable__control sk-hidden--visually\" id=\"sk-estimator-id-1\" type=\"checkbox\" checked><label for=\"sk-estimator-id-1\" class=\"sk-toggleable__label sk-toggleable__label-arrow\">LinearRegression</label><div class=\"sk-toggleable__content\"><pre>LinearRegression()</pre></div></div></div></div></div>"
      ],
      "text/plain": [
       "LinearRegression()"
      ]
     },
     "execution_count": 3,
     "metadata": {},
     "output_type": "execute_result"
    }
   ],
   "source": [
    "# Crear el modelo de regresión lineal\n",
    "\n",
    "from sklearn.linear_model import LinearRegression\n",
    "\n",
    "model = LinearRegression()\n",
    "model.fit(X, y)"
   ]
  },
  {
   "cell_type": "code",
   "execution_count": 4,
   "id": "6245b3fb",
   "metadata": {},
   "outputs": [
    {
     "data": {
      "text/html": [
       "<div>\n",
       "<style scoped>\n",
       "    .dataframe tbody tr th:only-of-type {\n",
       "        vertical-align: middle;\n",
       "    }\n",
       "\n",
       "    .dataframe tbody tr th {\n",
       "        vertical-align: top;\n",
       "    }\n",
       "\n",
       "    .dataframe thead th {\n",
       "        text-align: right;\n",
       "    }\n",
       "</style>\n",
       "<table border=\"1\" class=\"dataframe\">\n",
       "  <thead>\n",
       "    <tr style=\"text-align: right;\">\n",
       "      <th></th>\n",
       "      <th>Hogar</th>\n",
       "      <th>Nº de integrantes del grupo familiar</th>\n",
       "      <th>Edad del jefe(a) de hogar (años)</th>\n",
       "      <th>Gastos en alimentación (miles de pesos)</th>\n",
       "      <th>Predicción</th>\n",
       "    </tr>\n",
       "  </thead>\n",
       "  <tbody>\n",
       "    <tr>\n",
       "      <th>0</th>\n",
       "      <td>1</td>\n",
       "      <td>4</td>\n",
       "      <td>48</td>\n",
       "      <td>200</td>\n",
       "      <td>205.505479</td>\n",
       "    </tr>\n",
       "    <tr>\n",
       "      <th>1</th>\n",
       "      <td>2</td>\n",
       "      <td>2</td>\n",
       "      <td>26</td>\n",
       "      <td>130</td>\n",
       "      <td>139.862690</td>\n",
       "    </tr>\n",
       "    <tr>\n",
       "      <th>2</th>\n",
       "      <td>3</td>\n",
       "      <td>5</td>\n",
       "      <td>33</td>\n",
       "      <td>190</td>\n",
       "      <td>204.639062</td>\n",
       "    </tr>\n",
       "    <tr>\n",
       "      <th>3</th>\n",
       "      <td>4</td>\n",
       "      <td>3</td>\n",
       "      <td>24</td>\n",
       "      <td>175</td>\n",
       "      <td>155.840179</td>\n",
       "    </tr>\n",
       "    <tr>\n",
       "      <th>4</th>\n",
       "      <td>5</td>\n",
       "      <td>3</td>\n",
       "      <td>24</td>\n",
       "      <td>160</td>\n",
       "      <td>155.840179</td>\n",
       "    </tr>\n",
       "  </tbody>\n",
       "</table>\n",
       "</div>"
      ],
      "text/plain": [
       "   Hogar  Nº de integrantes del grupo familiar  \\\n",
       "0      1                                     4   \n",
       "1      2                                     2   \n",
       "2      3                                     5   \n",
       "3      4                                     3   \n",
       "4      5                                     3   \n",
       "\n",
       "   Edad del jefe(a) de hogar (años)  Gastos en alimentación (miles de pesos)  \\\n",
       "0                                48                                      200   \n",
       "1                                26                                      130   \n",
       "2                                33                                      190   \n",
       "3                                24                                      175   \n",
       "4                                24                                      160   \n",
       "\n",
       "   Predicción  \n",
       "0  205.505479  \n",
       "1  139.862690  \n",
       "2  204.639062  \n",
       "3  155.840179  \n",
       "4  155.840179  "
      ]
     },
     "execution_count": 4,
     "metadata": {},
     "output_type": "execute_result"
    }
   ],
   "source": [
    "# Hacer predicciones\n",
    "\n",
    "data[\"Predicción\"] = model.predict(X)\n",
    "\n",
    "data.head()"
   ]
  },
  {
   "cell_type": "code",
   "execution_count": 5,
   "id": "c8c1d9a5",
   "metadata": {},
   "outputs": [
    {
     "name": "stdout",
     "output_type": "stream",
     "text": [
      "Intercepto: 69.03715996958961\n",
      "Coeficientes: [18.56885906  1.29568507]\n"
     ]
    }
   ],
   "source": [
    "# Obtenemos los valores de b0 (Intercepto) y b1 (Coeficiente de la variable X)\n",
    "\n",
    "intercepto = model.intercept_\n",
    "\n",
    "print(\"Intercepto:\", model.intercept_)\n",
    "print(\"Coeficientes:\", model.coef_)"
   ]
  },
  {
   "cell_type": "code",
   "execution_count": 6,
   "id": "9d2eded7",
   "metadata": {},
   "outputs": [
    {
     "data": {
      "text/plain": [
       "188.776"
      ]
     },
     "execution_count": 6,
     "metadata": {},
     "output_type": "execute_result"
    }
   ],
   "source": [
    "# y = b0 + b1*x1\n",
    "# y = 69 + 18.569*4 + 1.3*35 \n",
    "\n",
    "prediccion_multiple = 69 + 18.569*4 + 1.3*35\n",
    "prediccion_multiple"
   ]
  },
  {
   "cell_type": "code",
   "execution_count": 7,
   "id": "ef94f7f8",
   "metadata": {},
   "outputs": [
    {
     "name": "stdout",
     "output_type": "stream",
     "text": [
      "Intercepto: 69.03715996958961\n",
      "Coeficientes: [18.56885906  1.29568507]\n",
      "R^2: 0.8981360782461346\n",
      "MAE: 8.304319315463607\n",
      "MSE: 100.05394297890003\n"
     ]
    }
   ],
   "source": [
    "from sklearn.metrics import mean_absolute_error, mean_squared_error, r2_score \n",
    "\n",
    "\n",
    "# Calcular métricas de evaluación\n",
    "r2 = r2_score(y, data[\"Predicción\"])\n",
    "mae = mean_absolute_error(y, data[\"Predicción\"])\n",
    "mse = mean_squared_error(y, data[\"Predicción\"])\n",
    "rmse = mean_squared_error(y, data[\"Predicción\"], squared=False)\n",
    "\n",
    "# Mostrar las métricas de evaluación\n",
    "print(\"Intercepto:\", model.intercept_)\n",
    "print(\"Coeficientes:\", model.coef_)\n",
    "print(\"R^2:\", r2)\n",
    "print(\"MAE:\", mae)\n",
    "print(\"MSE:\", mse)"
   ]
  },
  {
   "cell_type": "code",
   "execution_count": 8,
   "id": "1ea217d3",
   "metadata": {},
   "outputs": [],
   "source": [
    "# Utilizando la libreria statsmodel"
   ]
  },
  {
   "cell_type": "code",
   "execution_count": 9,
   "id": "846e9986",
   "metadata": {},
   "outputs": [
    {
     "name": "stdout",
     "output_type": "stream",
     "text": [
      "R2 ajustado: 0.8726700978076682\n"
     ]
    }
   ],
   "source": [
    "import statsmodels.api as sm\n",
    "\n",
    "# Añadir una constante (intercepto) a las variables independientes\n",
    "X = sm.add_constant(X)\n",
    "\n",
    "# Ajustar el modelo de regresión lineal\n",
    "model = sm.OLS(y, X).fit()\n",
    "\n",
    "# Obtener el R2 ajustado\n",
    "r2_ajustado = model.rsquared_adj\n",
    "\n",
    "print(\"R2 ajustado:\", r2_ajustado)\n"
   ]
  },
  {
   "cell_type": "code",
   "execution_count": 10,
   "id": "7a42ad84",
   "metadata": {},
   "outputs": [
    {
     "name": "stdout",
     "output_type": "stream",
     "text": [
      "                                       OLS Regression Results                                      \n",
      "===================================================================================================\n",
      "Dep. Variable:     Gastos en alimentación (miles de pesos)   R-squared:                       0.898\n",
      "Model:                                                 OLS   Adj. R-squared:                  0.873\n",
      "Method:                                      Least Squares   F-statistic:                     35.27\n",
      "Date:                                     Tue, 06 Aug 2024   Prob (F-statistic):           0.000108\n",
      "Time:                                             20:36:46   Log-Likelihood:                -40.940\n",
      "No. Observations:                                       11   AIC:                             87.88\n",
      "Df Residuals:                                            8   BIC:                             89.07\n",
      "Df Model:                                                2                                         \n",
      "Covariance Type:                                 nonrobust                                         \n",
      "========================================================================================================\n",
      "                                           coef    std err          t      P>|t|      [0.025      0.975]\n",
      "--------------------------------------------------------------------------------------------------------\n",
      "const                                   69.0372     14.754      4.679      0.002      35.015     103.059\n",
      "Nº de integrantes del grupo familiar    18.5689      4.703      3.948      0.004       7.724      29.414\n",
      "Edad del jefe(a) de hogar (años)         1.2957      0.619      2.095      0.070      -0.131       2.722\n",
      "==============================================================================\n",
      "Omnibus:                        0.795   Durbin-Watson:                   1.697\n",
      "Prob(Omnibus):                  0.672   Jarque-Bera (JB):                0.674\n",
      "Skew:                           0.484   Prob(JB):                        0.714\n",
      "Kurtosis:                       2.269   Cond. No.                         146.\n",
      "==============================================================================\n",
      "\n",
      "Notes:\n",
      "[1] Standard Errors assume that the covariance matrix of the errors is correctly specified.\n"
     ]
    },
    {
     "name": "stderr",
     "output_type": "stream",
     "text": [
      "C:\\Users\\Diego\\anaconda3\\envs\\gpu\\Lib\\site-packages\\scipy\\stats\\_stats_py.py:1806: UserWarning: kurtosistest only valid for n>=20 ... continuing anyway, n=11\n",
      "  warnings.warn(\"kurtosistest only valid for n>=20 ... continuing \"\n"
     ]
    }
   ],
   "source": [
    "print(model.summary())"
   ]
  }
 ],
 "metadata": {
  "kernelspec": {
   "display_name": "Python 3 (ipykernel)",
   "language": "python",
   "name": "python3"
  },
  "language_info": {
   "codemirror_mode": {
    "name": "ipython",
    "version": 3
   },
   "file_extension": ".py",
   "mimetype": "text/x-python",
   "name": "python",
   "nbconvert_exporter": "python",
   "pygments_lexer": "ipython3",
   "version": "3.11.5"
  }
 },
 "nbformat": 4,
 "nbformat_minor": 5
}
